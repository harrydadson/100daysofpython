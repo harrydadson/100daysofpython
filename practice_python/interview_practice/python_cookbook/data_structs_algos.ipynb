{
 "metadata": {
  "language_info": {
   "codemirror_mode": {
    "name": "ipython",
    "version": 3
   },
   "file_extension": ".py",
   "mimetype": "text/x-python",
   "name": "python",
   "nbconvert_exporter": "python",
   "pygments_lexer": "ipython3",
   "version": "3.7.3-final"
  },
  "orig_nbformat": 2,
  "kernelspec": {
   "name": "python3",
   "display_name": "Python 3",
   "language": "python"
  }
 },
 "nbformat": 4,
 "nbformat_minor": 2,
 "cells": [
  {
   "cell_type": "code",
   "execution_count": 2,
   "metadata": {},
   "outputs": [
    {
     "output_type": "stream",
     "name": "stdout",
     "text": [
      "foo 1 2\nbar hello\nfoo 3 4\n"
     ]
    }
   ],
   "source": [
    "# working with * and Tuples\n",
    "\n",
    "records = [('foo', 1, 2), ('bar', 'hello'), ('foo', 3, 4)]\n",
    "\n",
    "def do_foo(x, y):\n",
    "    print('foo', x, y)\n",
    "\n",
    "def do_bar(s):\n",
    "    print('bar', s)\n",
    "\n",
    "for tag, *args in records:\n",
    "    if tag == 'foo':\n",
    "        do_foo(*args)\n",
    "    elif tag == 'bar':\n",
    "        do_bar(*args)\n"
   ]
  },
  {
   "cell_type": "code",
   "execution_count": 12,
   "metadata": {},
   "outputs": [
    {
     "output_type": "stream",
     "name": "stdout",
     "text": [
      "defaultdict(<class 'list'>, {})\n"
     ]
    }
   ],
   "source": [
    "'''making a dictionary that maps keys to more than one value (multidict)'''\n",
    "\n",
    "pairs = {'a': [1,2,3], 'b': [4,5]}\n",
    "e = {'a': {1,2,3}, 'b': {4,5}}\n",
    "\n",
    "from collections import defaultdict\n",
    "\n",
    "pairs = defaultdict(list)\n",
    "\n",
    "for k, v in pairs:\n",
    "     pairs[k].append(v)\n",
    "\n",
    "print(pairs)"
   ]
  },
  {
   "cell_type": "code",
   "execution_count": null,
   "metadata": {},
   "outputs": [],
   "source": []
  }
 ]
}