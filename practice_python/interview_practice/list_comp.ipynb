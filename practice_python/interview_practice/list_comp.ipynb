{
 "metadata": {
  "language_info": {
   "codemirror_mode": {
    "name": "ipython",
    "version": 3
   },
   "file_extension": ".py",
   "mimetype": "text/x-python",
   "name": "python",
   "nbconvert_exporter": "python",
   "pygments_lexer": "ipython3",
   "version": "3.7.3-final"
  },
  "orig_nbformat": 2,
  "kernelspec": {
   "name": "python3",
   "display_name": "Python 3",
   "language": "python"
  }
 },
 "nbformat": 4,
 "nbformat_minor": 2,
 "cells": [
  {
   "cell_type": "code",
   "execution_count": 1,
   "metadata": {},
   "outputs": [
    {
     "output_type": "stream",
     "name": "stdout",
     "text": [
      "Harry will be 100 years old in the year 2087\n"
     ]
    }
   ],
   "source": [
    "# Create a program that asks the user to enter their name and their age. Print out a message addressed to them that tells them the year that they will turn 100 years old.\n",
    "\n",
    "name = input(\"What is your name: \")\n",
    "age = int(input(\"How old are you: \"))\n",
    "year = str((2014- age) + 100)\n",
    "\n",
    "print(name + \" will be 100 years old in the year \" + year)"
   ]
  },
  {
   "cell_type": "code",
   "execution_count": 7,
   "metadata": {},
   "outputs": [
    {
     "output_type": "stream",
     "name": "stdout",
     "text": [
      "You picked an even number\n"
     ]
    }
   ],
   "source": [
    "# Ask the user for a number. Depending on whether the number is even or odd, print out an appropriate message to the user.\n",
    "\n",
    "num = int(input(\"Enter a number: \"))\n",
    "mod = num % 2\n",
    "\n",
    "if mod > 0:\n",
    "    print(\"You picked an odd number\")\n",
    "else:\n",
    "    print(\"You picked an even number\")\n"
   ]
  },
  {
   "cell_type": "code",
   "execution_count": 10,
   "metadata": {},
   "outputs": [
    {
     "output_type": "stream",
     "name": "stdout",
     "text": [
      "[1, 1, 2, 3]\n"
     ]
    }
   ],
   "source": [
    "''' Take a list, say for example this one:\n",
    "\n",
    "  a = [1, 1, 2, 3, 5, 8, 13, 21, 34, 55, 89]\n",
    "and write a program that prints out all the elements of the list that are less than 5.'''\n",
    "\n",
    "a = [1, 1, 2, 3, 5, 8, 13, 21, 34, 55, 89]\n",
    "\n",
    "b = [i for i in a if i < 5]\n",
    "print(b)\n"
   ]
  },
  {
   "cell_type": "code",
   "execution_count": 13,
   "metadata": {},
   "outputs": [
    {
     "output_type": "stream",
     "name": "stdout",
     "text": [
      "[1, 5]\n"
     ]
    }
   ],
   "source": [
    "'''Create a program that asks the user for a number and then prints out a list of all the divisors of that number. (If you don’t know what a divisor is, it is a number that divides evenly into another number. For example, 13 is a divisor of 26 because 26 / 13 has no remainder.)'''\n",
    "\n",
    "num = int(input(\"Please choose a number to divide: \"))\n",
    "\n",
    "listRange = list(range(1, num+1))\n",
    "\n",
    "divisorList = []\n",
    "\n",
    "for nums in listRange:\n",
    "    if num % nums == 0:\n",
    "        divisorList.append(nums)\n",
    "\n",
    "print(divisorList) "
   ]
  },
  {
   "cell_type": "code",
   "execution_count": 15,
   "metadata": {},
   "outputs": [
    {
     "output_type": "stream",
     "name": "stdout",
     "text": [
      "[1, 2, 3, 4, 5, 6, 7, 8, 9, 10, 11, 12, 13]\n"
     ]
    }
   ],
   "source": [
    "'''Take two lists, say for example these two:\n",
    "\n",
    "\ta = [1, 1, 2, 3, 5, 8, 13, 21, 34, 55, 89]\n",
    "\tb = [1, 2, 3, 4, 5, 6, 7, 8, 9, 10, 11, 12, 13]\n",
    "and write a program that returns a list that contains only the elements that are common between the lists (without duplicates). Make sure your program works on two lists of different sizes.'''\n",
    "\n",
    "aa = [1, 1, 2, 3, 5, 8, 13, 21, 34, 55, 89]\n",
    "bb = [1, 2, 3, 4, 5, 6, 7, 8, 9, 10, 11, 12, 13]\n",
    "\n",
    "newList = []\n",
    "\n",
    "for i in bb:\n",
    "    if i in bb:\n",
    "        newList.append(i)\n",
    "\n",
    "print(newList)\n"
   ]
  },
  {
   "cell_type": "code",
   "execution_count": 17,
   "metadata": {},
   "outputs": [
    {
     "output_type": "stream",
     "name": "stdout",
     "text": [
      "enoon\nthis word is not palindrone\n"
     ]
    }
   ],
   "source": [
    "'''Ask the user for a string and print out whether this string is a palindrome or not. (A palindrome is a string that reads the same forwards and backwards.)'''\n",
    "\n",
    "wrd = str(input(\"Please enter a word\"))\n",
    "rvs = wrd[::-1]\n",
    "print(rvs)\n",
    "\n",
    "if wrd == rvs:\n",
    "    print(\"This word is a palindrone\")\n",
    "else:\n",
    "    print(\"this word is not palindrone\")"
   ]
  },
  {
   "cell_type": "code",
   "execution_count": 19,
   "metadata": {},
   "outputs": [
    {
     "output_type": "stream",
     "name": "stdout",
     "text": [
      "[4, 16, 36, 64, 100]\n"
     ]
    }
   ],
   "source": [
    "'''Let’s say I give you a list saved in a variable: a = [1, 4, 9, 16, 25, 36, 49, 64, 81, 100]. Write one line of Python that takes this list a and makes a new list that has only the even elements of this list in it.'''\n",
    "\n",
    "a = [1, 4, 9, 16, 25, 36, 49, 64, 81, 100]\n",
    "b = [i for i in a if i % 2 == 0]\n",
    "\n",
    "print(b)"
   ]
  },
  {
   "cell_type": "code",
   "execution_count": 1,
   "metadata": {},
   "outputs": [
    {
     "output_type": "stream",
     "name": "stdout",
     "text": [
      "Invalid input! you have not entered rock, paper or scissors, try again\n"
     ]
    }
   ],
   "source": [
    "'''Make a two-player Rock-Paper-Scissors game. (Hint: Ask for player plays (using input), compare them, print out a message of congratulations to the winner, and ask if the players want to start a new game)\n",
    "\n",
    "Remember the rules:\n",
    "\n",
    "Rock beats scissors\n",
    "Scissors beats paper\n",
    "Paper beats rock'''\n",
    "\n",
    "import sys\n",
    "\n",
    "user_1 = input(\"what's your name?\")\n",
    "user_2 = input(\"And yours?\")\n",
    "\n",
    "use1_ans = input(f\"{user_1}, do you want to choose rock, paper, or scissors\")\n",
    "use2_ans = input(f\"{user_2}, do you want to choose rock, paper, or scissors\")\n",
    "\n",
    "def compare(u1, u2):\n",
    "    if u1 == u2:\n",
    "        return(\"its a tie!\")\n",
    "    elif u1 == 'rock':\n",
    "        if u2 == 'scissors':\n",
    "            return(\"Rock wins!\")\n",
    "        else:\n",
    "            return(\"Paper wins\")\n",
    "    elif u1 == 'scissors':\n",
    "        if u2 == 'paper':\n",
    "            return(\"Scissors win\")\n",
    "        else:\n",
    "            return(\"Rock wins!\")\n",
    "    elif u1 == 'paper':\n",
    "        if u2 == 'rock':\n",
    "            return('Paper wins!')\n",
    "        else:\n",
    "            return(\"Invalid input! you have not entered rock, paper or scissors, try again\")\n",
    "\n",
    "            sys.exit()\n",
    "print(compare(use1_ans, user_2))\n"
   ]
  },
  {
   "cell_type": "code",
   "execution_count": 4,
   "metadata": {},
   "outputs": [
    {
     "output_type": "stream",
     "name": "stdout",
     "text": [
      "[1, 1, 2, 3, 5, 8, 13]\n[{1, 2, 3, 5, 8, 13}]\n"
     ]
    }
   ],
   "source": [
    "'''Take two lists, say for example these two:\n",
    "\n",
    "\ta = [1, 1, 2, 3, 5, 8, 13, 21, 34, 55, 89]\n",
    "\tb = [1, 2, 3, 4, 5, 6, 7, 8, 9, 10, 11, 12, 13]\n",
    "and write a program that returns a list that contains only the elements that are common between the lists (without duplicates). '''\n",
    "\n",
    "a = [1, 1, 2, 3, 5, 8, 13, 21, 34, 55, 89]\n",
    "b = [1, 2, 3, 4, 5, 6, 7, 8, 9, 10, 11, 12, 13]\n",
    "\n",
    "c = [i for i in a if i in b]\n",
    "print(c)\n",
    "\n",
    "d = []\n",
    "d.append(set(a).intersection(b))\n",
    "print(d)"
   ]
  },
  {
   "cell_type": "code",
   "execution_count": 5,
   "metadata": {},
   "outputs": [
    {
     "output_type": "stream",
     "name": "stdout",
     "text": [
      "prime\n"
     ]
    }
   ],
   "source": [
    "'''Ask the user for a number and determine whether the number is prime or not. (For those who have forgotten, a prime number is a number that has no divisors.). You can (and should!) use your answer to Exercise 4 to help you.'''\n",
    "\n",
    "num = int(input('Insert a number: '))\n",
    "a = [x for x in range(2, num) if num % x == 0]\n",
    "\n",
    "def isPrime(n):\n",
    "    if num > 1:\n",
    "        if len(a) == 0:\n",
    "            print('prime')\n",
    "        else:\n",
    "            print('Not prime')\n",
    "    else:\n",
    "        print('Not prime')\n",
    "\n",
    "isPrime(num)"
   ]
  },
  {
   "cell_type": "code",
   "execution_count": 8,
   "metadata": {},
   "outputs": [
    {
     "output_type": "stream",
     "name": "stdout",
     "text": [
      "[5, 25]\n"
     ]
    }
   ],
   "source": [
    "'''Write a program that takes a list of numbers (for example, a = [5, 10, 15, 20, 25]) and makes a new list of only the first and last elements of the given list. For practice, write this code inside a function.'''\n",
    "\n",
    "a = [5, 10, 15, 20, 25]\n",
    "\n",
    "def listEnds(a):\n",
    "    return [a[0], a[len(a)-1]]\n",
    "\n",
    "print(listEnds(a))"
   ]
  },
  {
   "cell_type": "code",
   "execution_count": 18,
   "metadata": {},
   "outputs": [
    {
     "output_type": "stream",
     "name": "stdout",
     "text": [
      "2\n"
     ]
    }
   ],
   "source": [
    "'''Write a program that asks the user how many Fibonnaci numbers to generate and then generates them. Take this opportunity to think about how you can use functions. Make sure to ask the user to enter the number of numbers in the sequence to generate.(Hint: The Fibonnaci seqence is a sequence of numbers where the next number in the sequence is the sum of the previous two numbers in the sequence. The sequence looks like this: 1, 1, 2, 3, 5, 8, 13, …)'''\n",
    "\n",
    "def fibonacci(num):\n",
    "\n",
    "    if num <= 0:\n",
    "        print('Incorrect input')\n",
    "\n",
    "    # first fib number is 0\n",
    "    elif num == 1:\n",
    "        return 0\n",
    "    # second fib number 1\n",
    "    elif num == 2:\n",
    "        return 1\n",
    "    else:\n",
    "        return fibonacci(num - 1) + fibonacci(num - 2)\n",
    "\n",
    "\n",
    "print(fibonacci(4))"
   ]
  },
  {
   "cell_type": "code",
   "execution_count": 20,
   "metadata": {},
   "outputs": [
    {
     "output_type": "stream",
     "name": "stdout",
     "text": [
      "Michele is name My\n"
     ]
    }
   ],
   "source": [
    "'''Write a program (using functions!) that asks the user for a long string containing multiple words. Print back to the user the same string, except with the words in backwards order. For example, say I type the string:\n",
    "\n",
    "  My name is Michele\n",
    "Then I would see the string:\n",
    "\n",
    "  Michele is name My'''\n",
    "\n",
    "wrd = 'My name is Michele'\n",
    "\n",
    "def rvrs(w):\n",
    "    return ' '.join(w.split()[::-1])\n",
    "\n",
    "print(rvrs(wrd))"
   ]
  },
  {
   "cell_type": "code",
   "execution_count": 22,
   "metadata": {},
   "outputs": [
    {
     "output_type": "stream",
     "name": "stdout",
     "text": [
      "S(rZS#pBDWXDSw\n"
     ]
    }
   ],
   "source": [
    "'''Write a password generator in Python. Be creative with how you generate passwords - strong passwords have a mix of lowercase letters, uppercase letters, numbers, and symbols. The passwords should be random, generating a new password every time the user asks for a new password. Include your code in a main method.\n",
    "\n",
    "Extra:\n",
    "\n",
    "Ask the user how strong they want their password to be. For weak passwords, pick a word or two from a list.'''\n",
    "\n",
    "import random\n",
    "\n",
    "chars = [\"A\", \"B\", \"C\", \"D\", \"E\", \"F\", \"G\", \"H\", \"I\", 'J', 'K', 'L', 'M', 'N', 'O', 'P', 'Q', 'R', 'S', 'T', 'U', 'V', 'W', 'X', 'Y', 'Z', 'a', 'b', 'c', 'd', 'e', 'f', 'g', 'h', 'i', 'j', 'k', 'l', 'm', 'n', 'o', 'p', 'q', 'r', 's', 't', 'u', 'v', 'w', 'x', 'y', 'z', '1', '2', '3', '4', '5', '6', '7', '8', '9', '0', '!', '@', '#', '$', '%', '&', '*', '(', ')']\n",
    "\n",
    "strength = input(\"Do you want a weak, medium, or strong password\").lower()\n",
    "\n",
    "new_password = []\n",
    "\n",
    "def password(strength):\n",
    "    if strength == 'weak':\n",
    "        while len(new_password) != 5:\n",
    "            new_password.append(chars[random.randint(1, 70)])\n",
    "    elif strength == 'medium':\n",
    "        while len(new_password) != 8:\n",
    "            new_password.append(chars[random.randint(1, 70)])\n",
    "    elif strength == 'strong':\n",
    "        while len(new_password) != 14:\n",
    "            new_password.append(chars[random.randint(1,70)])\n",
    "    \n",
    "    return new_password\n",
    "\n",
    "password(strength)\n",
    "\n",
    "new_password = \"\".join(new_password)\n",
    "\n",
    "print(new_password)"
   ]
  },
  {
   "cell_type": "code",
   "execution_count": 23,
   "metadata": {},
   "outputs": [
    {
     "output_type": "stream",
     "name": "stdout",
     "text": [
      "2\n"
     ]
    }
   ],
   "source": [
    "s1 = 'mississipi'\n",
    "print(s1.find('s'))"
   ]
  },
  {
   "cell_type": "code",
   "execution_count": 28,
   "metadata": {},
   "outputs": [
    {
     "output_type": "execute_result",
     "data": {
      "text/plain": [
       "2.6666666666666665"
      ]
     },
     "metadata": {},
     "execution_count": 28
    }
   ],
   "source": [
    "word_list = ['hey', 'am' , 'try']\n",
    "\n",
    "def avg_len(word_list):\n",
    "    return len(''.join(word_list)) / len(word_list)\n",
    "\n",
    "avg_len(word_list)"
   ]
  },
  {
   "cell_type": "code",
   "execution_count": null,
   "metadata": {},
   "outputs": [],
   "source": []
  }
 ]
}