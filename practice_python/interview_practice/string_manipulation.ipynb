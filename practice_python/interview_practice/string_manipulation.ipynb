{
 "metadata": {
  "language_info": {
   "codemirror_mode": {
    "name": "ipython",
    "version": 3
   },
   "file_extension": ".py",
   "mimetype": "text/x-python",
   "name": "python",
   "nbconvert_exporter": "python",
   "pygments_lexer": "ipython3",
   "version": "3.7.3-final"
  },
  "orig_nbformat": 2,
  "kernelspec": {
   "name": "python3",
   "display_name": "Python 3",
   "language": "python"
  }
 },
 "nbformat": 4,
 "nbformat_minor": 2,
 "cells": [
  {
   "cell_type": "code",
   "execution_count": 3,
   "metadata": {},
   "outputs": [
    {
     "output_type": "stream",
     "name": "stdout",
     "text": [
      "olleH\n"
     ]
    },
    {
     "output_type": "error",
     "ename": "AttributeError",
     "evalue": "'str' object has no attribute 'reversed'",
     "traceback": [
      "\u001b[0;31m---------------------------------------------------------------------------\u001b[0m",
      "\u001b[0;31mAttributeError\u001b[0m                            Traceback (most recent call last)",
      "\u001b[0;32m<ipython-input-3-f2eb7964ce10>\u001b[0m in \u001b[0;36m<module>\u001b[0;34m\u001b[0m\n\u001b[1;32m      5\u001b[0m \u001b[0;34m\u001b[0m\u001b[0m\n\u001b[1;32m      6\u001b[0m \u001b[0mstr1\u001b[0m \u001b[0;34m=\u001b[0m \u001b[0;34m\"world\"\u001b[0m\u001b[0;34m\u001b[0m\u001b[0;34m\u001b[0m\u001b[0m\n\u001b[0;32m----> 7\u001b[0;31m \u001b[0mprint\u001b[0m\u001b[0;34m(\u001b[0m\u001b[0mstr\u001b[0m\u001b[0;34m.\u001b[0m\u001b[0mreversed\u001b[0m\u001b[0;34m(\u001b[0m\u001b[0;34m)\u001b[0m\u001b[0;34m)\u001b[0m\u001b[0;34m\u001b[0m\u001b[0;34m\u001b[0m\u001b[0m\n\u001b[0m",
      "\u001b[0;31mAttributeError\u001b[0m: 'str' object has no attribute 'reversed'"
     ]
    }
   ],
   "source": [
    "# reverse a string\n",
    "\n",
    "str = \"Hello\"\n",
    "print(str[::-1])\n"
   ]
  },
  {
   "cell_type": "code",
   "execution_count": 8,
   "metadata": {},
   "outputs": [
    {
     "output_type": "stream",
     "name": "stdout",
     "text": [
      "101\n103\n107\n109\n113\n127\n131\n137\n139\n149\n151\n157\n163\n167\n173\n179\n181\n191\n193\n197\n199\n"
     ]
    }
   ],
   "source": [
    "'''writ a python program to print prime numbers between 100 and 200'''\n",
    "\n",
    "for num in list(range(100, 200)):\n",
    "    if all(num % i !=0 for i in range (2, num)):\n",
    "        print(num)"
   ]
  },
  {
   "cell_type": "code",
   "execution_count": 15,
   "metadata": {},
   "outputs": [
    {
     "output_type": "stream",
     "name": "stdout",
     "text": [
      "[1, 2, 4, 6, 6, 8]\n"
     ]
    }
   ],
   "source": [
    "'''write a sort function to sort the elements in a list'''\n",
    "\n",
    "lst = [2,6,4,1,6,8]\n",
    "lst1 = lst.sort(reverse=False)\n",
    "print(lst)"
   ]
  },
  {
   "cell_type": "code",
   "execution_count": 16,
   "metadata": {},
   "outputs": [
    {
     "output_type": "stream",
     "name": "stdout",
     "text": [
      "[2, 4, 6, 1, 8, 6]\n"
     ]
    }
   ],
   "source": [
    "'''Write a sorting function without using the list.sort function descending order'''\n",
    "\n",
    "lst = [2,6,4,1,6,8]\n",
    "newLst = []\n",
    "\n",
    "while lst:\n",
    "    minimum = lst[0]\n",
    "    for x in lst:\n",
    "        if x > minimum:\n",
    "            minimum = x\n",
    "        newLst.append(minimum)\n",
    "        lst.remove(minimum)\n",
    "print(newLst)"
   ]
  },
  {
   "cell_type": "code",
   "execution_count": 17,
   "metadata": {},
   "outputs": [
    {
     "output_type": "stream",
     "name": "stdout",
     "text": [
      "0\n1\n1\n2\n3\n5\n8\n13\n21\n34\n"
     ]
    }
   ],
   "source": [
    "'''write a python program to print fibonacci series'''\n",
    "\n",
    "def F(n):\n",
    "    if n == 0:\n",
    "        return 0\n",
    "    elif n == 1:\n",
    "        return 1\n",
    "    else:\n",
    "        return F(n-1) + F(n-2)\n",
    "\n",
    "for i in range(0,10):\n",
    "    print(F(i))"
   ]
  },
  {
   "cell_type": "code",
   "execution_count": 18,
   "metadata": {},
   "outputs": [
    {
     "output_type": "execute_result",
     "data": {
      "text/plain": [
       "True"
      ]
     },
     "metadata": {},
     "execution_count": 18
    }
   ],
   "source": [
    "'''write a program to check if a string a palindrone, words that read same backwards'''\n",
    "\n",
    "def isPalindrome(s):\n",
    "\n",
    "    rev = ''.join(reversed(s))\n",
    "\n",
    "    if (s == rev):\n",
    "        return True\n",
    "    else:\n",
    "        return False\n",
    "\n",
    "isPalindrome('racecar')"
   ]
  },
  {
   "cell_type": "code",
   "execution_count": 19,
   "metadata": {},
   "outputs": [
    {
     "output_type": "stream",
     "name": "stdout",
     "text": [
      "{3, 6}\n"
     ]
    }
   ],
   "source": [
    "'''write a python program to print set of duplicates'''\n",
    "\n",
    "l = [1,2,3,4,3,5,6,8,7,6]\n",
    "\n",
    "print(set([x for x in l if l.count(x) > 1]))"
   ]
  },
  {
   "cell_type": "code",
   "execution_count": 21,
   "metadata": {},
   "outputs": [
    {
     "output_type": "stream",
     "name": "stdout",
     "text": [
      "2\n"
     ]
    }
   ],
   "source": [
    "'''wite a python program to print the number of words in a given sentence'''\n",
    "\n",
    "wrds = 'hello world'\n",
    "\n",
    "print(len(wrds.split()))\n"
   ]
  },
  {
   "cell_type": "code",
   "execution_count": 23,
   "metadata": {},
   "outputs": [
    {
     "output_type": "stream",
     "name": "stdout",
     "text": [
      "Not present in the list\n"
     ]
    }
   ],
   "source": [
    "'''Given an array arr[] of n elements, write a python function to search a given element x in arr'''\n",
    "\n",
    "def search(arr, x):\n",
    "\n",
    "    for i in range(len(arr)):\n",
    "        if arr[i] == x:\n",
    "            return i\n",
    "\n",
    "    print('Not present in the list')\n",
    "\n",
    "arr = [1,2,3,4,7,6,5,5,9]\n",
    "search(arr, 10)"
   ]
  },
  {
   "cell_type": "code",
   "execution_count": 25,
   "metadata": {},
   "outputs": [
    {
     "output_type": "execute_result",
     "data": {
      "text/plain": [
       "'misp'"
      ]
     },
     "metadata": {},
     "execution_count": 25
    }
   ],
   "source": [
    "'''Given a string as your input, delete reoccuring character, and return the new string'''\n",
    "\n",
    "def deleteReocc(s):\n",
    "\n",
    "    seenChars = set()\n",
    "    outputStr = ''\n",
    "\n",
    "    for char in s:\n",
    "        if char not in seenChars:\n",
    "            seenChars.add(char)\n",
    "            outputStr += char\n",
    "\n",
    "    return outputStr\n",
    "\n",
    "deleteReocc(\"mississippi\")"
   ]
  },
  {
   "cell_type": "code",
   "execution_count": null,
   "metadata": {},
   "outputs": [],
   "source": []
  }
 ]
}